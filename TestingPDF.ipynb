{
  "cells": [
    {
      "cell_type": "markdown",
      "metadata": {
        "id": "view-in-github",
        "colab_type": "text"
      },
      "source": [
        "<a href=\"https://colab.research.google.com/github/AnahitaZahediNameghi/InitialCoding/blob/main/TestingPDF.ipynb\" target=\"_parent\"><img src=\"https://colab.research.google.com/assets/colab-badge.svg\" alt=\"Open In Colab\"/></a>"
      ]
    },
    {
      "cell_type": "code",
      "execution_count": null,
      "metadata": {
        "id": "77f6Xfz5xY_f"
      },
      "outputs": [],
      "source": [
        "from google.colab import files"
      ]
    },
    {
      "cell_type": "code",
      "execution_count": 27,
      "metadata": {
        "colab": {
          "base_uri": "https://localhost:8080/",
          "height": 73
        },
        "id": "dpW4Ltd2yDe_",
        "outputId": "0eb36380-4d69-40d5-f1cc-3d1476d22407"
      },
      "outputs": [
        {
          "output_type": "display_data",
          "data": {
            "text/plain": [
              "<IPython.core.display.HTML object>"
            ],
            "text/html": [
              "\n",
              "     <input type=\"file\" id=\"files-ec161fda-96c6-4f82-bfb0-e4e03ed7bf38\" name=\"files[]\" multiple disabled\n",
              "        style=\"border:none\" />\n",
              "     <output id=\"result-ec161fda-96c6-4f82-bfb0-e4e03ed7bf38\">\n",
              "      Upload widget is only available when the cell has been executed in the\n",
              "      current browser session. Please rerun this cell to enable.\n",
              "      </output>\n",
              "      <script>// Copyright 2017 Google LLC\n",
              "//\n",
              "// Licensed under the Apache License, Version 2.0 (the \"License\");\n",
              "// you may not use this file except in compliance with the License.\n",
              "// You may obtain a copy of the License at\n",
              "//\n",
              "//      http://www.apache.org/licenses/LICENSE-2.0\n",
              "//\n",
              "// Unless required by applicable law or agreed to in writing, software\n",
              "// distributed under the License is distributed on an \"AS IS\" BASIS,\n",
              "// WITHOUT WARRANTIES OR CONDITIONS OF ANY KIND, either express or implied.\n",
              "// See the License for the specific language governing permissions and\n",
              "// limitations under the License.\n",
              "\n",
              "/**\n",
              " * @fileoverview Helpers for google.colab Python module.\n",
              " */\n",
              "(function(scope) {\n",
              "function span(text, styleAttributes = {}) {\n",
              "  const element = document.createElement('span');\n",
              "  element.textContent = text;\n",
              "  for (const key of Object.keys(styleAttributes)) {\n",
              "    element.style[key] = styleAttributes[key];\n",
              "  }\n",
              "  return element;\n",
              "}\n",
              "\n",
              "// Max number of bytes which will be uploaded at a time.\n",
              "const MAX_PAYLOAD_SIZE = 100 * 1024;\n",
              "\n",
              "function _uploadFiles(inputId, outputId) {\n",
              "  const steps = uploadFilesStep(inputId, outputId);\n",
              "  const outputElement = document.getElementById(outputId);\n",
              "  // Cache steps on the outputElement to make it available for the next call\n",
              "  // to uploadFilesContinue from Python.\n",
              "  outputElement.steps = steps;\n",
              "\n",
              "  return _uploadFilesContinue(outputId);\n",
              "}\n",
              "\n",
              "// This is roughly an async generator (not supported in the browser yet),\n",
              "// where there are multiple asynchronous steps and the Python side is going\n",
              "// to poll for completion of each step.\n",
              "// This uses a Promise to block the python side on completion of each step,\n",
              "// then passes the result of the previous step as the input to the next step.\n",
              "function _uploadFilesContinue(outputId) {\n",
              "  const outputElement = document.getElementById(outputId);\n",
              "  const steps = outputElement.steps;\n",
              "\n",
              "  const next = steps.next(outputElement.lastPromiseValue);\n",
              "  return Promise.resolve(next.value.promise).then((value) => {\n",
              "    // Cache the last promise value to make it available to the next\n",
              "    // step of the generator.\n",
              "    outputElement.lastPromiseValue = value;\n",
              "    return next.value.response;\n",
              "  });\n",
              "}\n",
              "\n",
              "/**\n",
              " * Generator function which is called between each async step of the upload\n",
              " * process.\n",
              " * @param {string} inputId Element ID of the input file picker element.\n",
              " * @param {string} outputId Element ID of the output display.\n",
              " * @return {!Iterable<!Object>} Iterable of next steps.\n",
              " */\n",
              "function* uploadFilesStep(inputId, outputId) {\n",
              "  const inputElement = document.getElementById(inputId);\n",
              "  inputElement.disabled = false;\n",
              "\n",
              "  const outputElement = document.getElementById(outputId);\n",
              "  outputElement.innerHTML = '';\n",
              "\n",
              "  const pickedPromise = new Promise((resolve) => {\n",
              "    inputElement.addEventListener('change', (e) => {\n",
              "      resolve(e.target.files);\n",
              "    });\n",
              "  });\n",
              "\n",
              "  const cancel = document.createElement('button');\n",
              "  inputElement.parentElement.appendChild(cancel);\n",
              "  cancel.textContent = 'Cancel upload';\n",
              "  const cancelPromise = new Promise((resolve) => {\n",
              "    cancel.onclick = () => {\n",
              "      resolve(null);\n",
              "    };\n",
              "  });\n",
              "\n",
              "  // Wait for the user to pick the files.\n",
              "  const files = yield {\n",
              "    promise: Promise.race([pickedPromise, cancelPromise]),\n",
              "    response: {\n",
              "      action: 'starting',\n",
              "    }\n",
              "  };\n",
              "\n",
              "  cancel.remove();\n",
              "\n",
              "  // Disable the input element since further picks are not allowed.\n",
              "  inputElement.disabled = true;\n",
              "\n",
              "  if (!files) {\n",
              "    return {\n",
              "      response: {\n",
              "        action: 'complete',\n",
              "      }\n",
              "    };\n",
              "  }\n",
              "\n",
              "  for (const file of files) {\n",
              "    const li = document.createElement('li');\n",
              "    li.append(span(file.name, {fontWeight: 'bold'}));\n",
              "    li.append(span(\n",
              "        `(${file.type || 'n/a'}) - ${file.size} bytes, ` +\n",
              "        `last modified: ${\n",
              "            file.lastModifiedDate ? file.lastModifiedDate.toLocaleDateString() :\n",
              "                                    'n/a'} - `));\n",
              "    const percent = span('0% done');\n",
              "    li.appendChild(percent);\n",
              "\n",
              "    outputElement.appendChild(li);\n",
              "\n",
              "    const fileDataPromise = new Promise((resolve) => {\n",
              "      const reader = new FileReader();\n",
              "      reader.onload = (e) => {\n",
              "        resolve(e.target.result);\n",
              "      };\n",
              "      reader.readAsArrayBuffer(file);\n",
              "    });\n",
              "    // Wait for the data to be ready.\n",
              "    let fileData = yield {\n",
              "      promise: fileDataPromise,\n",
              "      response: {\n",
              "        action: 'continue',\n",
              "      }\n",
              "    };\n",
              "\n",
              "    // Use a chunked sending to avoid message size limits. See b/62115660.\n",
              "    let position = 0;\n",
              "    do {\n",
              "      const length = Math.min(fileData.byteLength - position, MAX_PAYLOAD_SIZE);\n",
              "      const chunk = new Uint8Array(fileData, position, length);\n",
              "      position += length;\n",
              "\n",
              "      const base64 = btoa(String.fromCharCode.apply(null, chunk));\n",
              "      yield {\n",
              "        response: {\n",
              "          action: 'append',\n",
              "          file: file.name,\n",
              "          data: base64,\n",
              "        },\n",
              "      };\n",
              "\n",
              "      let percentDone = fileData.byteLength === 0 ?\n",
              "          100 :\n",
              "          Math.round((position / fileData.byteLength) * 100);\n",
              "      percent.textContent = `${percentDone}% done`;\n",
              "\n",
              "    } while (position < fileData.byteLength);\n",
              "  }\n",
              "\n",
              "  // All done.\n",
              "  yield {\n",
              "    response: {\n",
              "      action: 'complete',\n",
              "    }\n",
              "  };\n",
              "}\n",
              "\n",
              "scope.google = scope.google || {};\n",
              "scope.google.colab = scope.google.colab || {};\n",
              "scope.google.colab._files = {\n",
              "  _uploadFiles,\n",
              "  _uploadFilesContinue,\n",
              "};\n",
              "})(self);\n",
              "</script> "
            ]
          },
          "metadata": {}
        },
        {
          "output_type": "stream",
          "name": "stdout",
          "text": [
            "Saving Weber's Protestant Ethic.pdf to Weber's Protestant Ethic (1).pdf\n"
          ]
        }
      ],
      "source": [
        "# Upload the PDF file\n",
        "uploaded = files.upload()"
      ]
    },
    {
      "cell_type": "code",
      "execution_count": 28,
      "metadata": {
        "id": "Xzc49XKHyTSU"
      },
      "outputs": [],
      "source": [
        "# Get the file name\n",
        "pdf_file_name = list(uploaded.keys())[0] # ???"
      ]
    },
    {
      "cell_type": "code",
      "execution_count": 29,
      "metadata": {
        "id": "dnfNf6-SymzH"
      },
      "outputs": [],
      "source": [
        "# Access the content of the PDF file\n",
        "pdf_content = uploaded[pdf_file_name]"
      ]
    },
    {
      "cell_type": "code",
      "execution_count": 30,
      "metadata": {
        "id": "_5kygyxtzbbU"
      },
      "outputs": [],
      "source": [
        "with open(pdf_file_name, 'wb') as f:\n",
        "    f.write(pdf_content) # ???"
      ]
    },
    {
      "cell_type": "code",
      "execution_count": 31,
      "metadata": {
        "colab": {
          "base_uri": "https://localhost:8080/"
        },
        "id": "8xH3Ik_W0u_q",
        "outputId": "44a2a709-adda-447d-a9d0-320b83d8147a"
      },
      "outputs": [
        {
          "output_type": "stream",
          "name": "stdout",
          "text": [
            "Requirement already satisfied: pdfplumber in /usr/local/lib/python3.10/dist-packages (0.10.3)\n",
            "Requirement already satisfied: pdfminer.six==20221105 in /usr/local/lib/python3.10/dist-packages (from pdfplumber) (20221105)\n",
            "Requirement already satisfied: Pillow>=9.1 in /usr/local/lib/python3.10/dist-packages (from pdfplumber) (9.4.0)\n",
            "Requirement already satisfied: pypdfium2>=4.18.0 in /usr/local/lib/python3.10/dist-packages (from pdfplumber) (4.26.0)\n",
            "Requirement already satisfied: charset-normalizer>=2.0.0 in /usr/local/lib/python3.10/dist-packages (from pdfminer.six==20221105->pdfplumber) (3.3.2)\n",
            "Requirement already satisfied: cryptography>=36.0.0 in /usr/local/lib/python3.10/dist-packages (from pdfminer.six==20221105->pdfplumber) (42.0.2)\n",
            "Requirement already satisfied: cffi>=1.12 in /usr/local/lib/python3.10/dist-packages (from cryptography>=36.0.0->pdfminer.six==20221105->pdfplumber) (1.16.0)\n",
            "Requirement already satisfied: pycparser in /usr/local/lib/python3.10/dist-packages (from cffi>=1.12->cryptography>=36.0.0->pdfminer.six==20221105->pdfplumber) (2.21)\n"
          ]
        }
      ],
      "source": [
        "!pip install pdfplumber"
      ]
    },
    {
      "cell_type": "code",
      "execution_count": 32,
      "metadata": {
        "id": "13Fy-MXw04fR"
      },
      "outputs": [],
      "source": [
        "import pdfplumber"
      ]
    },
    {
      "cell_type": "code",
      "execution_count": null,
      "metadata": {
        "id": "R542xScV3VZf"
      },
      "outputs": [],
      "source": [
        "# with pdfplumber.open(\"Weber's Protestant Ethic.pdf\") as pdf:\n",
        "#     first_page = pdf.pages[0]"
      ]
    },
    {
      "cell_type": "code",
      "execution_count": null,
      "metadata": {
        "id": "0uyEXgTj4ncZ"
      },
      "outputs": [],
      "source": [
        "# Extract text\n",
        "# text = first_page.extract_text()\n",
        "# print(\"Text:\", text) --> ValueError ???\n",
        "# GPT's Suggestion to Overcome the ValueError:\n",
        "# To handle the ValueError, you can wrap the text extraction in a try-except block to print more information about the error"
      ]
    },
    {
      "cell_type": "code",
      "execution_count": 33,
      "metadata": {
        "colab": {
          "base_uri": "https://localhost:8080/"
        },
        "id": "Em_S8AvF6gM1",
        "outputId": "65266363-797d-4382-c205-3601d08ea116"
      },
      "outputs": [
        {
          "output_type": "stream",
          "name": "stdout",
          "text": [
            "Text: MAX WEBER The Protestant Ethic and the Spirit of Capitalism\n",
            "abbreviations: MWC = modern, western capitalism\n",
            "Introduction\n",
            "Though knowledge and observation of great refinement have existed elsewhere, only in\n",
            "the West has rationalization in science, law and culture developed to such a great degree.\n",
            "The modern West absolutely and completely depends for its whole existence, for the\n",
            "political technical, and economic conditions of its life, on a specially trained organization\n",
            "of individuals, so that the most important functions of everyday life have come to be in\n",
            "the hands of technically, commercially and above all legally trained government officials.\n",
            "Nowhere else does this exist to such a degree as it does in the West.\n",
            "The most fateful force in modern life is capitalism. The impulse to acquisition has existed\n",
            "always and everywhere and has in itself nothing to do with capitalism. Capitalism is the\n",
            "pursuit of profit, and forever renewed profit, by means of continuous, rational, capitalistic\n",
            "enterprise. This enterprise must be continuous, because in a capitalistic society, anyone\n",
            "who did not take advantage of opportunities for profit-making would be doomed to\n",
            "extinction.\n",
            "A capitalistic economic action rests on the expectation of profit by the utilization of\n",
            "opportunities for exchange, on (formally) peaceful chances for profit. Where this is\n",
            "rationally pursued, calculations in terms of money are made, whether by modern\n",
            "bookkeeping or more primitive means. Everything is done in terms of balances of money\n",
            "income and money expenses. Whether the calculations are accurate, or whether the\n",
            "calculation method is traditional or by guess-work affects only the degree of the\n",
            "rationality of capitalistic acquisition.\n",
            "Characteristics of modern Western capitalism: rational industrial organization (that is,\n",
            "attuned to a regular profit and not to political nor irrational speculative opportunities for\n",
            "profit); separation of business from the household; rational bookkeeping. Capitalistic\n",
            "adventurers (in search of booty, whether by war or exploitation) have existed everywhere,\n",
            "but only in the modern West has developed... the rational capitalistic organization of\n",
            "(formally) free labor.\n",
            "The rationality of MWC is dependent on the calculation of technical factors, and so is\n",
            "dependent on the development in science of the exact and rational experiment. C'ism did\n",
            "not cause this development: but, the continuing development of this type science is\n",
            "supported by capitalistic interests in practical economic applications.\n",
            "The peculiar rationalism of Western culture extends to many fields -- science, mystical\n",
            "contemplation, military training, law and administration. Each of theses fields may be\n",
            "rationalized in terms of very different ultimate values and ends, and what is rational from\n",
            "one point of view may well be irrational from another. The development of economic\n",
            "rationalism is partly dependent on rational technique and law, but it also requires people\n"
          ]
        }
      ],
      "source": [
        "try:\n",
        "    with pdfplumber.open(\"Weber's Protestant Ethic.pdf\") as pdf:\n",
        "        first_page = pdf.pages[0]\n",
        "        text = first_page.extract_text() # text is the variable for the extracted\n",
        "        print(\"Text:\", text)             # content of the first page.\n",
        "except Exception as e:\n",
        "    print(f\"An error occurred: {e}\")"
      ]
    },
    {
      "cell_type": "code",
      "execution_count": 34,
      "metadata": {
        "colab": {
          "base_uri": "https://localhost:8080/"
        },
        "id": "FuTX48kV1Z6q",
        "outputId": "e4d8c50e-ec4d-438e-b41a-8d744783f6a4"
      },
      "outputs": [
        {
          "output_type": "stream",
          "name": "stdout",
          "text": [
            "Requirement already satisfied: nltk in /usr/local/lib/python3.10/dist-packages (3.8.1)\n",
            "Requirement already satisfied: click in /usr/local/lib/python3.10/dist-packages (from nltk) (8.1.7)\n",
            "Requirement already satisfied: joblib in /usr/local/lib/python3.10/dist-packages (from nltk) (1.3.2)\n",
            "Requirement already satisfied: regex>=2021.8.3 in /usr/local/lib/python3.10/dist-packages (from nltk) (2023.12.25)\n",
            "Requirement already satisfied: tqdm in /usr/local/lib/python3.10/dist-packages (from nltk) (4.66.1)\n"
          ]
        }
      ],
      "source": [
        "!pip install nltk"
      ]
    },
    {
      "cell_type": "code",
      "execution_count": 35,
      "metadata": {
        "id": "2d903al61ws1"
      },
      "outputs": [],
      "source": [
        "import nltk"
      ]
    },
    {
      "cell_type": "code",
      "execution_count": 36,
      "metadata": {
        "colab": {
          "base_uri": "https://localhost:8080/"
        },
        "id": "cCTQBnXW11eW",
        "outputId": "20cb6c64-372d-4fac-89d0-c2f32fba1188"
      },
      "outputs": [
        {
          "output_type": "stream",
          "name": "stderr",
          "text": [
            "[nltk_data] Downloading package punkt to /root/nltk_data...\n",
            "[nltk_data]   Package punkt is already up-to-date!\n"
          ]
        },
        {
          "output_type": "execute_result",
          "data": {
            "text/plain": [
              "True"
            ]
          },
          "metadata": {},
          "execution_count": 36
        }
      ],
      "source": [
        "from nltk.tokenize import word_tokenize\n",
        "nltk.download('punkt') # Download the punkt tokenizer data"
      ]
    },
    {
      "cell_type": "code",
      "execution_count": 37,
      "metadata": {
        "colab": {
          "base_uri": "https://localhost:8080/"
        },
        "id": "0OwtZ8rd159q",
        "outputId": "907c24d3-29da-4d5d-e0af-2e31489e7c91"
      },
      "outputs": [
        {
          "output_type": "stream",
          "name": "stdout",
          "text": [
            "['MAX', 'WEBER', 'The', 'Protestant', 'Ethic', 'and', 'the', 'Spirit', 'of', 'Capitalism', 'abbreviations', ':', 'MWC', '=', 'modern', ',', 'western', 'capitalism', 'Introduction', 'Though', 'knowledge', 'and', 'observation', 'of', 'great', 'refinement', 'have', 'existed', 'elsewhere', ',', 'only', 'in', 'the', 'West', 'has', 'rationalization', 'in', 'science', ',', 'law', 'and', 'culture', 'developed', 'to', 'such', 'a', 'great', 'degree', '.', 'The', 'modern', 'West', 'absolutely', 'and', 'completely', 'depends', 'for', 'its', 'whole', 'existence', ',', 'for', 'the', 'political', 'technical', ',', 'and', 'economic', 'conditions', 'of', 'its', 'life', ',', 'on', 'a', 'specially', 'trained', 'organization', 'of', 'individuals', ',', 'so', 'that', 'the', 'most', 'important', 'functions', 'of', 'everyday', 'life', 'have', 'come', 'to', 'be', 'in', 'the', 'hands', 'of', 'technically', ',', 'commercially', 'and', 'above', 'all', 'legally', 'trained', 'government', 'officials', '.', 'Nowhere', 'else', 'does', 'this', 'exist', 'to', 'such', 'a', 'degree', 'as', 'it', 'does', 'in', 'the', 'West', '.', 'The', 'most', 'fateful', 'force', 'in', 'modern', 'life', 'is', 'capitalism', '.', 'The', 'impulse', 'to', 'acquisition', 'has', 'existed', 'always', 'and', 'everywhere', 'and', 'has', 'in', 'itself', 'nothing', 'to', 'do', 'with', 'capitalism', '.', 'Capitalism', 'is', 'the', 'pursuit', 'of', 'profit', ',', 'and', 'forever', 'renewed', 'profit', ',', 'by', 'means', 'of', 'continuous', ',', 'rational', ',', 'capitalistic', 'enterprise', '.', 'This', 'enterprise', 'must', 'be', 'continuous', ',', 'because', 'in', 'a', 'capitalistic', 'society', ',', 'anyone', 'who', 'did', 'not', 'take', 'advantage', 'of', 'opportunities', 'for', 'profit-making', 'would', 'be', 'doomed', 'to', 'extinction', '.', 'A', 'capitalistic', 'economic', 'action', 'rests', 'on', 'the', 'expectation', 'of', 'profit', 'by', 'the', 'utilization', 'of', 'opportunities', 'for', 'exchange', ',', 'on', '(', 'formally', ')', 'peaceful', 'chances', 'for', 'profit', '.', 'Where', 'this', 'is', 'rationally', 'pursued', ',', 'calculations', 'in', 'terms', 'of', 'money', 'are', 'made', ',', 'whether', 'by', 'modern', 'bookkeeping', 'or', 'more', 'primitive', 'means', '.', 'Everything', 'is', 'done', 'in', 'terms', 'of', 'balances', 'of', 'money', 'income', 'and', 'money', 'expenses', '.', 'Whether', 'the', 'calculations', 'are', 'accurate', ',', 'or', 'whether', 'the', 'calculation', 'method', 'is', 'traditional', 'or', 'by', 'guess-work', 'affects', 'only', 'the', 'degree', 'of', 'the', 'rationality', 'of', 'capitalistic', 'acquisition', '.', 'Characteristics', 'of', 'modern', 'Western', 'capitalism', ':', 'rational', 'industrial', 'organization', '(', 'that', 'is', ',', 'attuned', 'to', 'a', 'regular', 'profit', 'and', 'not', 'to', 'political', 'nor', 'irrational', 'speculative', 'opportunities', 'for', 'profit', ')', ';', 'separation', 'of', 'business', 'from', 'the', 'household', ';', 'rational', 'bookkeeping', '.', 'Capitalistic', 'adventurers', '(', 'in', 'search', 'of', 'booty', ',', 'whether', 'by', 'war', 'or', 'exploitation', ')', 'have', 'existed', 'everywhere', ',', 'but', 'only', 'in', 'the', 'modern', 'West', 'has', 'developed', '...', 'the', 'rational', 'capitalistic', 'organization', 'of', '(', 'formally', ')', 'free', 'labor', '.', 'The', 'rationality', 'of', 'MWC', 'is', 'dependent', 'on', 'the', 'calculation', 'of', 'technical', 'factors', ',', 'and', 'so', 'is', 'dependent', 'on', 'the', 'development', 'in', 'science', 'of', 'the', 'exact', 'and', 'rational', 'experiment', '.', \"C'ism\", 'did', 'not', 'cause', 'this', 'development', ':', 'but', ',', 'the', 'continuing', 'development', 'of', 'this', 'type', 'science', 'is', 'supported', 'by', 'capitalistic', 'interests', 'in', 'practical', 'economic', 'applications', '.', 'The', 'peculiar', 'rationalism', 'of', 'Western', 'culture', 'extends', 'to', 'many', 'fields', '--', 'science', ',', 'mystical', 'contemplation', ',', 'military', 'training', ',', 'law', 'and', 'administration', '.', 'Each', 'of', 'theses', 'fields', 'may', 'be', 'rationalized', 'in', 'terms', 'of', 'very', 'different', 'ultimate', 'values', 'and', 'ends', ',', 'and', 'what', 'is', 'rational', 'from', 'one', 'point', 'of', 'view', 'may', 'well', 'be', 'irrational', 'from', 'another', '.', 'The', 'development', 'of', 'economic', 'rationalism', 'is', 'partly', 'dependent', 'on', 'rational', 'technique', 'and', 'law', ',', 'but', 'it', 'also', 'requires', 'people']\n"
          ]
        }
      ],
      "source": [
        "tokens = word_tokenize(text)\n",
        "print(tokens)\n",
        "# The output is tokenized and it is stored in a relatively long list."
      ]
    },
    {
      "cell_type": "code",
      "execution_count": 38,
      "metadata": {
        "id": "2MoRWqnw3F2L"
      },
      "outputs": [],
      "source": [
        "from nltk.corpus import stopwords"
      ]
    },
    {
      "cell_type": "code",
      "execution_count": 39,
      "metadata": {
        "colab": {
          "base_uri": "https://localhost:8080/"
        },
        "id": "ogGlFnqu3OgY",
        "outputId": "fb4f3de2-70b8-4cee-d050-66ed2abd8037"
      },
      "outputs": [
        {
          "output_type": "stream",
          "name": "stderr",
          "text": [
            "[nltk_data] Downloading package punkt to /root/nltk_data...\n",
            "[nltk_data]   Package punkt is already up-to-date!\n"
          ]
        },
        {
          "output_type": "execute_result",
          "data": {
            "text/plain": [
              "True"
            ]
          },
          "metadata": {},
          "execution_count": 39
        }
      ],
      "source": [
        "nltk.download('punkt') # ???"
      ]
    },
    {
      "cell_type": "code",
      "execution_count": 40,
      "metadata": {
        "colab": {
          "base_uri": "https://localhost:8080/"
        },
        "id": "WbNz7dmf3YKL",
        "outputId": "968d49dc-50bd-47ad-9e79-6aa0f7e385c2"
      },
      "outputs": [
        {
          "output_type": "stream",
          "name": "stderr",
          "text": [
            "[nltk_data] Downloading package stopwords to /root/nltk_data...\n",
            "[nltk_data]   Package stopwords is already up-to-date!\n"
          ]
        },
        {
          "output_type": "execute_result",
          "data": {
            "text/plain": [
              "True"
            ]
          },
          "metadata": {},
          "execution_count": 40
        }
      ],
      "source": [
        "nltk.download('stopwords')"
      ]
    },
    {
      "cell_type": "code",
      "execution_count": 41,
      "metadata": {
        "id": "r0iTduva3cZf"
      },
      "outputs": [],
      "source": [
        "stop_words = set(stopwords.words('english'))"
      ]
    },
    {
      "cell_type": "code",
      "execution_count": 42,
      "metadata": {
        "colab": {
          "base_uri": "https://localhost:8080/"
        },
        "id": "VD3ayKEP3nIC",
        "outputId": "e931cb3c-12ae-4d92-cd5a-aa6a8e1484cb"
      },
      "outputs": [
        {
          "output_type": "stream",
          "name": "stdout",
          "text": [
            "['MAX', 'WEBER', 'Protestant', 'Ethic', 'Spirit', 'Capitalism', 'abbreviations', ':', 'MWC', '=', 'modern', ',', 'western', 'capitalism', 'Introduction', 'Though', 'knowledge', 'observation', 'great', 'refinement', 'existed', 'elsewhere', ',', 'West', 'rationalization', 'science', ',', 'law', 'culture', 'developed', 'great', 'degree', '.', 'modern', 'West', 'absolutely', 'completely', 'depends', 'whole', 'existence', ',', 'political', 'technical', ',', 'economic', 'conditions', 'life', ',', 'specially', 'trained', 'organization', 'individuals', ',', 'important', 'functions', 'everyday', 'life', 'come', 'hands', 'technically', ',', 'commercially', 'legally', 'trained', 'government', 'officials', '.', 'Nowhere', 'else', 'exist', 'degree', 'West', '.', 'fateful', 'force', 'modern', 'life', 'capitalism', '.', 'impulse', 'acquisition', 'existed', 'always', 'everywhere', 'nothing', 'capitalism', '.', 'Capitalism', 'pursuit', 'profit', ',', 'forever', 'renewed', 'profit', ',', 'means', 'continuous', ',', 'rational', ',', 'capitalistic', 'enterprise', '.', 'enterprise', 'must', 'continuous', ',', 'capitalistic', 'society', ',', 'anyone', 'take', 'advantage', 'opportunities', 'profit-making', 'would', 'doomed', 'extinction', '.', 'capitalistic', 'economic', 'action', 'rests', 'expectation', 'profit', 'utilization', 'opportunities', 'exchange', ',', '(', 'formally', ')', 'peaceful', 'chances', 'profit', '.', 'rationally', 'pursued', ',', 'calculations', 'terms', 'money', 'made', ',', 'whether', 'modern', 'bookkeeping', 'primitive', 'means', '.', 'Everything', 'done', 'terms', 'balances', 'money', 'income', 'money', 'expenses', '.', 'Whether', 'calculations', 'accurate', ',', 'whether', 'calculation', 'method', 'traditional', 'guess-work', 'affects', 'degree', 'rationality', 'capitalistic', 'acquisition', '.', 'Characteristics', 'modern', 'Western', 'capitalism', ':', 'rational', 'industrial', 'organization', '(', ',', 'attuned', 'regular', 'profit', 'political', 'irrational', 'speculative', 'opportunities', 'profit', ')', ';', 'separation', 'business', 'household', ';', 'rational', 'bookkeeping', '.', 'Capitalistic', 'adventurers', '(', 'search', 'booty', ',', 'whether', 'war', 'exploitation', ')', 'existed', 'everywhere', ',', 'modern', 'West', 'developed', '...', 'rational', 'capitalistic', 'organization', '(', 'formally', ')', 'free', 'labor', '.', 'rationality', 'MWC', 'dependent', 'calculation', 'technical', 'factors', ',', 'dependent', 'development', 'science', 'exact', 'rational', 'experiment', '.', \"C'ism\", 'cause', 'development', ':', ',', 'continuing', 'development', 'type', 'science', 'supported', 'capitalistic', 'interests', 'practical', 'economic', 'applications', '.', 'peculiar', 'rationalism', 'Western', 'culture', 'extends', 'many', 'fields', '--', 'science', ',', 'mystical', 'contemplation', ',', 'military', 'training', ',', 'law', 'administration', '.', 'theses', 'fields', 'may', 'rationalized', 'terms', 'different', 'ultimate', 'values', 'ends', ',', 'rational', 'one', 'point', 'view', 'may', 'well', 'irrational', 'another', '.', 'development', 'economic', 'rationalism', 'partly', 'dependent', 'rational', 'technique', 'law', ',', 'also', 'requires', 'people']\n"
          ]
        }
      ],
      "source": [
        "filtered_tokens = [word for word in tokens if word.lower() not in stop_words] # List comprehension\n",
        "print(filtered_tokens)\n",
        "# Using for loop instead of list comprehension:\n",
        "# filtered_tokens = []\n",
        "# for word in tokens:\n",
        "#   if word.lower() not in stop_words:\n",
        "#     filtered_tokens.append(word)"
      ]
    },
    {
      "cell_type": "code",
      "execution_count": null,
      "metadata": {
        "id": "lzVOrHy-49B8"
      },
      "outputs": [],
      "source": [
        "import re\n",
        "# def remove_punctuation_regex(input_text):\n",
        "    # Define a regex pattern to match punctuation\n",
        "    # punctuation_pattern = r'[^\\w\\s]'\n",
        "    # Use re.sub to replace punctuation with an empty string\n",
        "    # cleaned_text = re.sub(punctuation_pattern, '', input_text) # ???\n",
        "\n",
        "    # return cleaned_text"
      ]
    },
    {
      "cell_type": "code",
      "execution_count": null,
      "metadata": {
        "id": "7WH75zNB6yZT"
      },
      "outputs": [],
      "source": [
        "# cleaned_sentence_regex = remove_punctuation_regex(filtered_tokens)\n",
        "# TypeError: expected string or bytes-like object ??????????????????"
      ]
    },
    {
      "cell_type": "code",
      "execution_count": 43,
      "metadata": {
        "colab": {
          "base_uri": "https://localhost:8080/"
        },
        "id": "5kIR_dLy7y7n",
        "outputId": "54e12b3f-aff4-4e71-ae34-3a27905919a3"
      },
      "outputs": [
        {
          "output_type": "stream",
          "name": "stdout",
          "text": [
            "['max', 'weber', 'protestant', 'ethic', 'spirit', 'capitalism', 'abbreviations', ':', 'mwc', '=', 'modern', ',', 'western', 'capitalism', 'introduction', 'though', 'knowledge', 'observation', 'great', 'refinement', 'existed', 'elsewhere', ',', 'west', 'rationalization', 'science', ',', 'law', 'culture', 'developed', 'great', 'degree', '.', 'modern', 'west', 'absolutely', 'completely', 'depends', 'whole', 'existence', ',', 'political', 'technical', ',', 'economic', 'conditions', 'life', ',', 'specially', 'trained', 'organization', 'individuals', ',', 'important', 'functions', 'everyday', 'life', 'come', 'hands', 'technically', ',', 'commercially', 'legally', 'trained', 'government', 'officials', '.', 'nowhere', 'else', 'exist', 'degree', 'west', '.', 'fateful', 'force', 'modern', 'life', 'capitalism', '.', 'impulse', 'acquisition', 'existed', 'always', 'everywhere', 'nothing', 'capitalism', '.', 'capitalism', 'pursuit', 'profit', ',', 'forever', 'renewed', 'profit', ',', 'means', 'continuous', ',', 'rational', ',', 'capitalistic', 'enterprise', '.', 'enterprise', 'must', 'continuous', ',', 'capitalistic', 'society', ',', 'anyone', 'take', 'advantage', 'opportunities', 'profit-making', 'would', 'doomed', 'extinction', '.', 'capitalistic', 'economic', 'action', 'rests', 'expectation', 'profit', 'utilization', 'opportunities', 'exchange', ',', '(', 'formally', ')', 'peaceful', 'chances', 'profit', '.', 'rationally', 'pursued', ',', 'calculations', 'terms', 'money', 'made', ',', 'whether', 'modern', 'bookkeeping', 'primitive', 'means', '.', 'everything', 'done', 'terms', 'balances', 'money', 'income', 'money', 'expenses', '.', 'whether', 'calculations', 'accurate', ',', 'whether', 'calculation', 'method', 'traditional', 'guess-work', 'affects', 'degree', 'rationality', 'capitalistic', 'acquisition', '.', 'characteristics', 'modern', 'western', 'capitalism', ':', 'rational', 'industrial', 'organization', '(', ',', 'attuned', 'regular', 'profit', 'political', 'irrational', 'speculative', 'opportunities', 'profit', ')', ';', 'separation', 'business', 'household', ';', 'rational', 'bookkeeping', '.', 'capitalistic', 'adventurers', '(', 'search', 'booty', ',', 'whether', 'war', 'exploitation', ')', 'existed', 'everywhere', ',', 'modern', 'west', 'developed', '...', 'rational', 'capitalistic', 'organization', '(', 'formally', ')', 'free', 'labor', '.', 'rationality', 'mwc', 'dependent', 'calculation', 'technical', 'factors', ',', 'dependent', 'development', 'science', 'exact', 'rational', 'experiment', '.', \"c'ism\", 'cause', 'development', ':', ',', 'continuing', 'development', 'type', 'science', 'supported', 'capitalistic', 'interests', 'practical', 'economic', 'applications', '.', 'peculiar', 'rationalism', 'western', 'culture', 'extends', 'many', 'fields', '--', 'science', ',', 'mystical', 'contemplation', ',', 'military', 'training', ',', 'law', 'administration', '.', 'theses', 'fields', 'may', 'rationalized', 'terms', 'different', 'ultimate', 'values', 'ends', ',', 'rational', 'one', 'point', 'view', 'may', 'well', 'irrational', 'another', '.', 'development', 'economic', 'rationalism', 'partly', 'dependent', 'rational', 'technique', 'law', ',', 'also', 'requires', 'people']\n"
          ]
        }
      ],
      "source": [
        "# Lowercasing:\n",
        "lowercase_words = [word.lower() for word in filtered_tokens]\n",
        "print(lowercase_words)"
      ]
    },
    {
      "cell_type": "code",
      "execution_count": 44,
      "metadata": {
        "colab": {
          "base_uri": "https://localhost:8080/"
        },
        "id": "vdgJvC488cfb",
        "outputId": "5c8f474f-3039-4403-920d-92e3e84e0fde"
      },
      "outputs": [
        {
          "output_type": "stream",
          "name": "stderr",
          "text": [
            "[nltk_data] Downloading package wordnet to /root/nltk_data...\n",
            "[nltk_data]   Package wordnet is already up-to-date!\n"
          ]
        },
        {
          "output_type": "execute_result",
          "data": {
            "text/plain": [
              "True"
            ]
          },
          "metadata": {},
          "execution_count": 44
        }
      ],
      "source": [
        "from nltk.stem import WordNetLemmatizer\n",
        "nltk.download('wordnet')"
      ]
    },
    {
      "cell_type": "code",
      "execution_count": 45,
      "metadata": {
        "id": "TX9HMGGc8zyD"
      },
      "outputs": [],
      "source": [
        "# Initialize the WordNet lemmatizer\n",
        "lemmatizer = WordNetLemmatizer()"
      ]
    },
    {
      "cell_type": "code",
      "execution_count": 46,
      "metadata": {
        "colab": {
          "base_uri": "https://localhost:8080/"
        },
        "id": "R5YMFs0Q9Dht",
        "outputId": "1d4ce0fc-3e14-40fa-ff0b-555e5cab2a70"
      },
      "outputs": [
        {
          "output_type": "stream",
          "name": "stdout",
          "text": [
            "['max', 'weber', 'protestant', 'ethic', 'spirit', 'capitalism', 'abbreviation', ':', 'mwc', '=', 'modern', ',', 'western', 'capitalism', 'introduction', 'though', 'knowledge', 'observation', 'great', 'refinement', 'existed', 'elsewhere', ',', 'west', 'rationalization', 'science', ',', 'law', 'culture', 'developed', 'great', 'degree', '.', 'modern', 'west', 'absolutely', 'completely', 'depends', 'whole', 'existence', ',', 'political', 'technical', ',', 'economic', 'condition', 'life', ',', 'specially', 'trained', 'organization', 'individual', ',', 'important', 'function', 'everyday', 'life', 'come', 'hand', 'technically', ',', 'commercially', 'legally', 'trained', 'government', 'official', '.', 'nowhere', 'else', 'exist', 'degree', 'west', '.', 'fateful', 'force', 'modern', 'life', 'capitalism', '.', 'impulse', 'acquisition', 'existed', 'always', 'everywhere', 'nothing', 'capitalism', '.', 'capitalism', 'pursuit', 'profit', ',', 'forever', 'renewed', 'profit', ',', 'mean', 'continuous', ',', 'rational', ',', 'capitalistic', 'enterprise', '.', 'enterprise', 'must', 'continuous', ',', 'capitalistic', 'society', ',', 'anyone', 'take', 'advantage', 'opportunity', 'profit-making', 'would', 'doomed', 'extinction', '.', 'capitalistic', 'economic', 'action', 'rest', 'expectation', 'profit', 'utilization', 'opportunity', 'exchange', ',', '(', 'formally', ')', 'peaceful', 'chance', 'profit', '.', 'rationally', 'pursued', ',', 'calculation', 'term', 'money', 'made', ',', 'whether', 'modern', 'bookkeeping', 'primitive', 'mean', '.', 'everything', 'done', 'term', 'balance', 'money', 'income', 'money', 'expense', '.', 'whether', 'calculation', 'accurate', ',', 'whether', 'calculation', 'method', 'traditional', 'guess-work', 'affect', 'degree', 'rationality', 'capitalistic', 'acquisition', '.', 'characteristic', 'modern', 'western', 'capitalism', ':', 'rational', 'industrial', 'organization', '(', ',', 'attuned', 'regular', 'profit', 'political', 'irrational', 'speculative', 'opportunity', 'profit', ')', ';', 'separation', 'business', 'household', ';', 'rational', 'bookkeeping', '.', 'capitalistic', 'adventurer', '(', 'search', 'booty', ',', 'whether', 'war', 'exploitation', ')', 'existed', 'everywhere', ',', 'modern', 'west', 'developed', '...', 'rational', 'capitalistic', 'organization', '(', 'formally', ')', 'free', 'labor', '.', 'rationality', 'mwc', 'dependent', 'calculation', 'technical', 'factor', ',', 'dependent', 'development', 'science', 'exact', 'rational', 'experiment', '.', \"c'ism\", 'cause', 'development', ':', ',', 'continuing', 'development', 'type', 'science', 'supported', 'capitalistic', 'interest', 'practical', 'economic', 'application', '.', 'peculiar', 'rationalism', 'western', 'culture', 'extends', 'many', 'field', '--', 'science', ',', 'mystical', 'contemplation', ',', 'military', 'training', ',', 'law', 'administration', '.', 'thesis', 'field', 'may', 'rationalized', 'term', 'different', 'ultimate', 'value', 'end', ',', 'rational', 'one', 'point', 'view', 'may', 'well', 'irrational', 'another', '.', 'development', 'economic', 'rationalism', 'partly', 'dependent', 'rational', 'technique', 'law', ',', 'also', 'requires', 'people']\n"
          ]
        }
      ],
      "source": [
        "# Lemmatize each word in the sentence\n",
        "lemmatized_words = [lemmatizer.lemmatize(word) for word in lowercase_words]\n",
        "print(lemmatized_words)"
      ]
    },
    {
      "cell_type": "code",
      "execution_count": 47,
      "metadata": {
        "colab": {
          "base_uri": "https://localhost:8080/",
          "height": 73
        },
        "id": "gYA6IhlLCB7n",
        "outputId": "cc21ede6-a839-4434-b171-8283f22d740d"
      },
      "outputs": [
        {
          "output_type": "display_data",
          "data": {
            "text/plain": [
              "<IPython.core.display.HTML object>"
            ],
            "text/html": [
              "\n",
              "     <input type=\"file\" id=\"files-de7e2b60-32f7-4341-b16f-0c473bb8d820\" name=\"files[]\" multiple disabled\n",
              "        style=\"border:none\" />\n",
              "     <output id=\"result-de7e2b60-32f7-4341-b16f-0c473bb8d820\">\n",
              "      Upload widget is only available when the cell has been executed in the\n",
              "      current browser session. Please rerun this cell to enable.\n",
              "      </output>\n",
              "      <script>// Copyright 2017 Google LLC\n",
              "//\n",
              "// Licensed under the Apache License, Version 2.0 (the \"License\");\n",
              "// you may not use this file except in compliance with the License.\n",
              "// You may obtain a copy of the License at\n",
              "//\n",
              "//      http://www.apache.org/licenses/LICENSE-2.0\n",
              "//\n",
              "// Unless required by applicable law or agreed to in writing, software\n",
              "// distributed under the License is distributed on an \"AS IS\" BASIS,\n",
              "// WITHOUT WARRANTIES OR CONDITIONS OF ANY KIND, either express or implied.\n",
              "// See the License for the specific language governing permissions and\n",
              "// limitations under the License.\n",
              "\n",
              "/**\n",
              " * @fileoverview Helpers for google.colab Python module.\n",
              " */\n",
              "(function(scope) {\n",
              "function span(text, styleAttributes = {}) {\n",
              "  const element = document.createElement('span');\n",
              "  element.textContent = text;\n",
              "  for (const key of Object.keys(styleAttributes)) {\n",
              "    element.style[key] = styleAttributes[key];\n",
              "  }\n",
              "  return element;\n",
              "}\n",
              "\n",
              "// Max number of bytes which will be uploaded at a time.\n",
              "const MAX_PAYLOAD_SIZE = 100 * 1024;\n",
              "\n",
              "function _uploadFiles(inputId, outputId) {\n",
              "  const steps = uploadFilesStep(inputId, outputId);\n",
              "  const outputElement = document.getElementById(outputId);\n",
              "  // Cache steps on the outputElement to make it available for the next call\n",
              "  // to uploadFilesContinue from Python.\n",
              "  outputElement.steps = steps;\n",
              "\n",
              "  return _uploadFilesContinue(outputId);\n",
              "}\n",
              "\n",
              "// This is roughly an async generator (not supported in the browser yet),\n",
              "// where there are multiple asynchronous steps and the Python side is going\n",
              "// to poll for completion of each step.\n",
              "// This uses a Promise to block the python side on completion of each step,\n",
              "// then passes the result of the previous step as the input to the next step.\n",
              "function _uploadFilesContinue(outputId) {\n",
              "  const outputElement = document.getElementById(outputId);\n",
              "  const steps = outputElement.steps;\n",
              "\n",
              "  const next = steps.next(outputElement.lastPromiseValue);\n",
              "  return Promise.resolve(next.value.promise).then((value) => {\n",
              "    // Cache the last promise value to make it available to the next\n",
              "    // step of the generator.\n",
              "    outputElement.lastPromiseValue = value;\n",
              "    return next.value.response;\n",
              "  });\n",
              "}\n",
              "\n",
              "/**\n",
              " * Generator function which is called between each async step of the upload\n",
              " * process.\n",
              " * @param {string} inputId Element ID of the input file picker element.\n",
              " * @param {string} outputId Element ID of the output display.\n",
              " * @return {!Iterable<!Object>} Iterable of next steps.\n",
              " */\n",
              "function* uploadFilesStep(inputId, outputId) {\n",
              "  const inputElement = document.getElementById(inputId);\n",
              "  inputElement.disabled = false;\n",
              "\n",
              "  const outputElement = document.getElementById(outputId);\n",
              "  outputElement.innerHTML = '';\n",
              "\n",
              "  const pickedPromise = new Promise((resolve) => {\n",
              "    inputElement.addEventListener('change', (e) => {\n",
              "      resolve(e.target.files);\n",
              "    });\n",
              "  });\n",
              "\n",
              "  const cancel = document.createElement('button');\n",
              "  inputElement.parentElement.appendChild(cancel);\n",
              "  cancel.textContent = 'Cancel upload';\n",
              "  const cancelPromise = new Promise((resolve) => {\n",
              "    cancel.onclick = () => {\n",
              "      resolve(null);\n",
              "    };\n",
              "  });\n",
              "\n",
              "  // Wait for the user to pick the files.\n",
              "  const files = yield {\n",
              "    promise: Promise.race([pickedPromise, cancelPromise]),\n",
              "    response: {\n",
              "      action: 'starting',\n",
              "    }\n",
              "  };\n",
              "\n",
              "  cancel.remove();\n",
              "\n",
              "  // Disable the input element since further picks are not allowed.\n",
              "  inputElement.disabled = true;\n",
              "\n",
              "  if (!files) {\n",
              "    return {\n",
              "      response: {\n",
              "        action: 'complete',\n",
              "      }\n",
              "    };\n",
              "  }\n",
              "\n",
              "  for (const file of files) {\n",
              "    const li = document.createElement('li');\n",
              "    li.append(span(file.name, {fontWeight: 'bold'}));\n",
              "    li.append(span(\n",
              "        `(${file.type || 'n/a'}) - ${file.size} bytes, ` +\n",
              "        `last modified: ${\n",
              "            file.lastModifiedDate ? file.lastModifiedDate.toLocaleDateString() :\n",
              "                                    'n/a'} - `));\n",
              "    const percent = span('0% done');\n",
              "    li.appendChild(percent);\n",
              "\n",
              "    outputElement.appendChild(li);\n",
              "\n",
              "    const fileDataPromise = new Promise((resolve) => {\n",
              "      const reader = new FileReader();\n",
              "      reader.onload = (e) => {\n",
              "        resolve(e.target.result);\n",
              "      };\n",
              "      reader.readAsArrayBuffer(file);\n",
              "    });\n",
              "    // Wait for the data to be ready.\n",
              "    let fileData = yield {\n",
              "      promise: fileDataPromise,\n",
              "      response: {\n",
              "        action: 'continue',\n",
              "      }\n",
              "    };\n",
              "\n",
              "    // Use a chunked sending to avoid message size limits. See b/62115660.\n",
              "    let position = 0;\n",
              "    do {\n",
              "      const length = Math.min(fileData.byteLength - position, MAX_PAYLOAD_SIZE);\n",
              "      const chunk = new Uint8Array(fileData, position, length);\n",
              "      position += length;\n",
              "\n",
              "      const base64 = btoa(String.fromCharCode.apply(null, chunk));\n",
              "      yield {\n",
              "        response: {\n",
              "          action: 'append',\n",
              "          file: file.name,\n",
              "          data: base64,\n",
              "        },\n",
              "      };\n",
              "\n",
              "      let percentDone = fileData.byteLength === 0 ?\n",
              "          100 :\n",
              "          Math.round((position / fileData.byteLength) * 100);\n",
              "      percent.textContent = `${percentDone}% done`;\n",
              "\n",
              "    } while (position < fileData.byteLength);\n",
              "  }\n",
              "\n",
              "  // All done.\n",
              "  yield {\n",
              "    response: {\n",
              "      action: 'complete',\n",
              "    }\n",
              "  };\n",
              "}\n",
              "\n",
              "scope.google = scope.google || {};\n",
              "scope.google.colab = scope.google.colab || {};\n",
              "scope.google.colab._files = {\n",
              "  _uploadFiles,\n",
              "  _uploadFilesContinue,\n",
              "};\n",
              "})(self);\n",
              "</script> "
            ]
          },
          "metadata": {}
        },
        {
          "output_type": "stream",
          "name": "stdout",
          "text": [
            "Saving Weber's Protestant Ethic.pdf to Weber's Protestant Ethic (2).pdf\n"
          ]
        }
      ],
      "source": [
        "from google.colab import files\n",
        "# Upload the PDF file\n",
        "uploaded = files.upload()"
      ]
    },
    {
      "cell_type": "code",
      "execution_count": 48,
      "metadata": {
        "id": "hJcb1uarCNxc"
      },
      "outputs": [],
      "source": [
        "# Get the file name\n",
        "pdf_file_name = list(uploaded.keys())[0]\n",
        "# Access the content of the PDF file\n",
        "pdf_content = uploaded[pdf_file_name]\n",
        "# Save the PDF content to a file\n",
        "with open(pdf_file_name, 'wb') as f:\n",
        "    f.write(pdf_content)"
      ]
    },
    {
      "cell_type": "code",
      "execution_count": null,
      "metadata": {
        "id": "w-WlaCfIChpl"
      },
      "outputs": [],
      "source": [
        "# with pdfplumber.open(\"Weber's Protestant Ethic.pdf\") as pdf:\n",
        "#     second_page = pdf.pages[1]"
      ]
    },
    {
      "cell_type": "code",
      "execution_count": 49,
      "metadata": {
        "colab": {
          "base_uri": "https://localhost:8080/"
        },
        "id": "9ymhMm-NFSPJ",
        "outputId": "944d45ff-686d-4c51-efbf-d8c8f0f96438"
      },
      "outputs": [
        {
          "output_type": "stream",
          "name": "stdout",
          "text": [
            "Text: to have a favorable disposition toward adopting certain types of practical rational\n",
            "conduct.\n",
            "In this book, we will treat ONLY ONE SIDE OF THE CAUSAL CHAIN, the connection\n",
            "of the spirit of modern economic life with the rational ethics of ascetic Protestantism.\n",
            "Religious Affiliation and Social Stratification\n",
            "Catholics show a stronger propensity to remain in their crafts, and become master\n",
            "craftsmen, while Protestants are attracted to a larger extent to the upper ranks of skilled\n",
            "labor and administrative positions in factories. Protestants own a disproportionate share\n",
            "of capital. All other things equal, Protestants have been more likely to develop economic\n",
            "rationalism than Catholics. Weber seeks the explanation in 'the permanent intrinsic\n",
            "character of their religion,' and not only in their temporary external historico-political\n",
            "situations.\n",
            "The Reformation meant not the elimination of the church's control over everyday life, but\n",
            "a substitution of a new form of control for the previous one. While the Catholic church\n",
            "was fairly lax, Calvinism 'would be for us the most absolutely unbearable form of\n",
            "ecclesiastical control of the individual which could possibly exist.'\n",
            "Protestantism must not be understood as joy of living or in any other sense connected\n",
            "with the Enlightenment. Early Protestantism (e.g., Luther, Calvin) had nothing to do with\n",
            "progress in an Enlightenment sense. Not all Protestant denominations had an equally\n",
            "strong influence on the development of members' business acumen and spirit of hard\n",
            "work.\n",
            "The Spirit of Capitalism\n",
            "The spirit of capitalism is ''an historical individual: a complex of elements associated in\n",
            "historical reality which we united into a conceptual whole from the standpoint of their\n",
            "cultural significance'' (47).\n",
            "Ben Franklin is an example of someone who espouses a philosophy of avarice which is:\n",
            "the ideal of an honest man of recognized credit. It includes a duty on the part of an\n",
            "individual toward the increase of his capital, which is assumed as an end in itself. It is not\n",
            "mere business astuteness, it is an ethos; infraction of its rules is not foolishness or bad\n",
            "business, but forgetfulness of duty.\n",
            "In this ethic, economic acquisition is no longer considered a means of subsistence: it is\n",
            "the ultimate purpose of a man's life. This is combined with the strict avoidance of all\n",
            "spontaneous enjoyment of life. (NOTE: From the standpoint ''of the happiness of, or\n",
            "utility to, a single individual, this ethic appears entirely transcendental and absolutely\n",
            "irrational'' (53)).\n"
          ]
        }
      ],
      "source": [
        "try:\n",
        "    with pdfplumber.open(\"Weber's Protestant Ethic.pdf\") as pdf:\n",
        "        second_page = pdf.pages[1]\n",
        "        text = second_page.extract_text() # text is the variable for the extracted\n",
        "        print(\"Text:\", text)             # content of the first page.\n",
        "except Exception as e:\n",
        "    print(f\"An error occurred: {e}\")\n",
        "# ???????????????????????????????????\n",
        "# I have really nothing to say; one minute ago it did not proceed at all and printed\n",
        "# \"An error occurred\": seek of closed file. Then, I asked GPT to help me and it\n",
        "# wrote the codes below. It worked; it was a big relief. Afterwards, I ran the\n",
        "# troublesome code again and to my surprise it did work. What is the matter really?\n",
        "# It looks like a magic. I cannot understand."
      ]
    },
    {
      "cell_type": "code",
      "execution_count": 50,
      "metadata": {
        "colab": {
          "base_uri": "https://localhost:8080/"
        },
        "id": "rMFq6BSUCvvp",
        "outputId": "453e379d-21bf-4359-b38b-46e9286b6ec7"
      },
      "outputs": [
        {
          "output_type": "stream",
          "name": "stdout",
          "text": [
            "Text: to have a favorable disposition toward adopting certain types of practical rational\n",
            "conduct.\n",
            "In this book, we will treat ONLY ONE SIDE OF THE CAUSAL CHAIN, the connection\n",
            "of the spirit of modern economic life with the rational ethics of ascetic Protestantism.\n",
            "Religious Affiliation and Social Stratification\n",
            "Catholics show a stronger propensity to remain in their crafts, and become master\n",
            "craftsmen, while Protestants are attracted to a larger extent to the upper ranks of skilled\n",
            "labor and administrative positions in factories. Protestants own a disproportionate share\n",
            "of capital. All other things equal, Protestants have been more likely to develop economic\n",
            "rationalism than Catholics. Weber seeks the explanation in 'the permanent intrinsic\n",
            "character of their religion,' and not only in their temporary external historico-political\n",
            "situations.\n",
            "The Reformation meant not the elimination of the church's control over everyday life, but\n",
            "a substitution of a new form of control for the previous one. While the Catholic church\n",
            "was fairly lax, Calvinism 'would be for us the most absolutely unbearable form of\n",
            "ecclesiastical control of the individual which could possibly exist.'\n",
            "Protestantism must not be understood as joy of living or in any other sense connected\n",
            "with the Enlightenment. Early Protestantism (e.g., Luther, Calvin) had nothing to do with\n",
            "progress in an Enlightenment sense. Not all Protestant denominations had an equally\n",
            "strong influence on the development of members' business acumen and spirit of hard\n",
            "work.\n",
            "The Spirit of Capitalism\n",
            "The spirit of capitalism is ''an historical individual: a complex of elements associated in\n",
            "historical reality which we united into a conceptual whole from the standpoint of their\n",
            "cultural significance'' (47).\n",
            "Ben Franklin is an example of someone who espouses a philosophy of avarice which is:\n",
            "the ideal of an honest man of recognized credit. It includes a duty on the part of an\n",
            "individual toward the increase of his capital, which is assumed as an end in itself. It is not\n",
            "mere business astuteness, it is an ethos; infraction of its rules is not foolishness or bad\n",
            "business, but forgetfulness of duty.\n",
            "In this ethic, economic acquisition is no longer considered a means of subsistence: it is\n",
            "the ultimate purpose of a man's life. This is combined with the strict avoidance of all\n",
            "spontaneous enjoyment of life. (NOTE: From the standpoint ''of the happiness of, or\n",
            "utility to, a single individual, this ethic appears entirely transcendental and absolutely\n",
            "irrational'' (53)).\n"
          ]
        }
      ],
      "source": [
        "# Open the saved PDF file with pdfplumber\n",
        "try:\n",
        "    with pdfplumber.open(pdf_file_name) as pdf:\n",
        "        second_page = pdf.pages[1]\n",
        "        text = second_page.extract_text()\n",
        "        print(\"Text:\", text)\n",
        "except Exception as e:\n",
        "    print(f\"An error occurred: {e}\")"
      ]
    },
    {
      "cell_type": "code",
      "source": [
        "import nltk\n",
        "from nltk.tokenize import word_tokenize\n",
        "nltk.download('punkt') # Download the punkt tokenizer data"
      ],
      "metadata": {
        "colab": {
          "base_uri": "https://localhost:8080/"
        },
        "id": "3TiCKquaxr7f",
        "outputId": "0f676b75-c6ab-4700-f364-1f43758d3fca"
      },
      "execution_count": 51,
      "outputs": [
        {
          "output_type": "stream",
          "name": "stderr",
          "text": [
            "[nltk_data] Downloading package punkt to /root/nltk_data...\n",
            "[nltk_data]   Package punkt is already up-to-date!\n"
          ]
        },
        {
          "output_type": "execute_result",
          "data": {
            "text/plain": [
              "True"
            ]
          },
          "metadata": {},
          "execution_count": 51
        }
      ]
    },
    {
      "cell_type": "code",
      "execution_count": 52,
      "metadata": {
        "colab": {
          "base_uri": "https://localhost:8080/"
        },
        "id": "aTIawYE9HjF4",
        "outputId": "bdf5a9ed-d88a-4d6a-b960-82d91746c8c9"
      },
      "outputs": [
        {
          "output_type": "stream",
          "name": "stdout",
          "text": [
            "['to', 'have', 'a', 'favorable', 'disposition', 'toward', 'adopting', 'certain', 'types', 'of', 'practical', 'rational', 'conduct', '.', 'In', 'this', 'book', ',', 'we', 'will', 'treat', 'ONLY', 'ONE', 'SIDE', 'OF', 'THE', 'CAUSAL', 'CHAIN', ',', 'the', 'connection', 'of', 'the', 'spirit', 'of', 'modern', 'economic', 'life', 'with', 'the', 'rational', 'ethics', 'of', 'ascetic', 'Protestantism', '.', 'Religious', 'Affiliation', 'and', 'Social', 'Stratification', 'Catholics', 'show', 'a', 'stronger', 'propensity', 'to', 'remain', 'in', 'their', 'crafts', ',', 'and', 'become', 'master', 'craftsmen', ',', 'while', 'Protestants', 'are', 'attracted', 'to', 'a', 'larger', 'extent', 'to', 'the', 'upper', 'ranks', 'of', 'skilled', 'labor', 'and', 'administrative', 'positions', 'in', 'factories', '.', 'Protestants', 'own', 'a', 'disproportionate', 'share', 'of', 'capital', '.', 'All', 'other', 'things', 'equal', ',', 'Protestants', 'have', 'been', 'more', 'likely', 'to', 'develop', 'economic', 'rationalism', 'than', 'Catholics', '.', 'Weber', 'seeks', 'the', 'explanation', 'in', \"'the\", 'permanent', 'intrinsic', 'character', 'of', 'their', 'religion', ',', \"'\", 'and', 'not', 'only', 'in', 'their', 'temporary', 'external', 'historico-political', 'situations', '.', 'The', 'Reformation', 'meant', 'not', 'the', 'elimination', 'of', 'the', 'church', \"'s\", 'control', 'over', 'everyday', 'life', ',', 'but', 'a', 'substitution', 'of', 'a', 'new', 'form', 'of', 'control', 'for', 'the', 'previous', 'one', '.', 'While', 'the', 'Catholic', 'church', 'was', 'fairly', 'lax', ',', 'Calvinism', \"'would\", 'be', 'for', 'us', 'the', 'most', 'absolutely', 'unbearable', 'form', 'of', 'ecclesiastical', 'control', 'of', 'the', 'individual', 'which', 'could', 'possibly', 'exist', '.', \"'\", 'Protestantism', 'must', 'not', 'be', 'understood', 'as', 'joy', 'of', 'living', 'or', 'in', 'any', 'other', 'sense', 'connected', 'with', 'the', 'Enlightenment', '.', 'Early', 'Protestantism', '(', 'e.g.', ',', 'Luther', ',', 'Calvin', ')', 'had', 'nothing', 'to', 'do', 'with', 'progress', 'in', 'an', 'Enlightenment', 'sense', '.', 'Not', 'all', 'Protestant', 'denominations', 'had', 'an', 'equally', 'strong', 'influence', 'on', 'the', 'development', 'of', 'members', \"'\", 'business', 'acumen', 'and', 'spirit', 'of', 'hard', 'work', '.', 'The', 'Spirit', 'of', 'Capitalism', 'The', 'spirit', 'of', 'capitalism', 'is', '``', 'an', 'historical', 'individual', ':', 'a', 'complex', 'of', 'elements', 'associated', 'in', 'historical', 'reality', 'which', 'we', 'united', 'into', 'a', 'conceptual', 'whole', 'from', 'the', 'standpoint', 'of', 'their', 'cultural', 'significance', \"''\", '(', '47', ')', '.', 'Ben', 'Franklin', 'is', 'an', 'example', 'of', 'someone', 'who', 'espouses', 'a', 'philosophy', 'of', 'avarice', 'which', 'is', ':', 'the', 'ideal', 'of', 'an', 'honest', 'man', 'of', 'recognized', 'credit', '.', 'It', 'includes', 'a', 'duty', 'on', 'the', 'part', 'of', 'an', 'individual', 'toward', 'the', 'increase', 'of', 'his', 'capital', ',', 'which', 'is', 'assumed', 'as', 'an', 'end', 'in', 'itself', '.', 'It', 'is', 'not', 'mere', 'business', 'astuteness', ',', 'it', 'is', 'an', 'ethos', ';', 'infraction', 'of', 'its', 'rules', 'is', 'not', 'foolishness', 'or', 'bad', 'business', ',', 'but', 'forgetfulness', 'of', 'duty', '.', 'In', 'this', 'ethic', ',', 'economic', 'acquisition', 'is', 'no', 'longer', 'considered', 'a', 'means', 'of', 'subsistence', ':', 'it', 'is', 'the', 'ultimate', 'purpose', 'of', 'a', 'man', \"'s\", 'life', '.', 'This', 'is', 'combined', 'with', 'the', 'strict', 'avoidance', 'of', 'all', 'spontaneous', 'enjoyment', 'of', 'life', '.', '(', 'NOTE', ':', 'From', 'the', 'standpoint', '``', 'of', 'the', 'happiness', 'of', ',', 'or', 'utility', 'to', ',', 'a', 'single', 'individual', ',', 'this', 'ethic', 'appears', 'entirely', 'transcendental', 'and', 'absolutely', 'irrational', \"''\", '(', '53', ')', ')', '.']\n"
          ]
        }
      ],
      "source": [
        "tokens1 = word_tokenize(text)\n",
        "print(tokens1)"
      ]
    },
    {
      "cell_type": "code",
      "source": [
        "from nltk.corpus import stopwords\n",
        "nltk.download('stopwords')\n",
        "stop_words = set(stopwords.words('english'))"
      ],
      "metadata": {
        "colab": {
          "base_uri": "https://localhost:8080/"
        },
        "id": "FMaTJexiyNp2",
        "outputId": "fa39ef86-ff5e-4266-c200-089ce576f10c"
      },
      "execution_count": 21,
      "outputs": [
        {
          "output_type": "stream",
          "name": "stderr",
          "text": [
            "[nltk_data] Downloading package stopwords to /root/nltk_data...\n",
            "[nltk_data]   Unzipping corpora/stopwords.zip.\n"
          ]
        }
      ]
    },
    {
      "cell_type": "code",
      "execution_count": 22,
      "metadata": {
        "colab": {
          "base_uri": "https://localhost:8080/"
        },
        "id": "mxc8DRfDH4x0",
        "outputId": "a46b9be3-76f2-44d0-9d42-8272322ff010"
      },
      "outputs": [
        {
          "output_type": "stream",
          "name": "stdout",
          "text": [
            "['favorable', 'disposition', 'toward', 'adopting', 'certain', 'types', 'practical', 'rational', 'conduct', '.', 'book', ',', 'treat', 'ONE', 'SIDE', 'CAUSAL', 'CHAIN', ',', 'connection', 'spirit', 'modern', 'economic', 'life', 'rational', 'ethics', 'ascetic', 'Protestantism', '.', 'Religious', 'Affiliation', 'Social', 'Stratification', 'Catholics', 'show', 'stronger', 'propensity', 'remain', 'crafts', ',', 'become', 'master', 'craftsmen', ',', 'Protestants', 'attracted', 'larger', 'extent', 'upper', 'ranks', 'skilled', 'labor', 'administrative', 'positions', 'factories', '.', 'Protestants', 'disproportionate', 'share', 'capital', '.', 'things', 'equal', ',', 'Protestants', 'likely', 'develop', 'economic', 'rationalism', 'Catholics', '.', 'Weber', 'seeks', 'explanation', \"'the\", 'permanent', 'intrinsic', 'character', 'religion', ',', \"'\", 'temporary', 'external', 'historico-political', 'situations', '.', 'Reformation', 'meant', 'elimination', 'church', \"'s\", 'control', 'everyday', 'life', ',', 'substitution', 'new', 'form', 'control', 'previous', 'one', '.', 'Catholic', 'church', 'fairly', 'lax', ',', 'Calvinism', \"'would\", 'us', 'absolutely', 'unbearable', 'form', 'ecclesiastical', 'control', 'individual', 'could', 'possibly', 'exist', '.', \"'\", 'Protestantism', 'must', 'understood', 'joy', 'living', 'sense', 'connected', 'Enlightenment', '.', 'Early', 'Protestantism', '(', 'e.g.', ',', 'Luther', ',', 'Calvin', ')', 'nothing', 'progress', 'Enlightenment', 'sense', '.', 'Protestant', 'denominations', 'equally', 'strong', 'influence', 'development', 'members', \"'\", 'business', 'acumen', 'spirit', 'hard', 'work', '.', 'Spirit', 'Capitalism', 'spirit', 'capitalism', '``', 'historical', 'individual', ':', 'complex', 'elements', 'associated', 'historical', 'reality', 'united', 'conceptual', 'whole', 'standpoint', 'cultural', 'significance', \"''\", '(', '47', ')', '.', 'Ben', 'Franklin', 'example', 'someone', 'espouses', 'philosophy', 'avarice', ':', 'ideal', 'honest', 'man', 'recognized', 'credit', '.', 'includes', 'duty', 'part', 'individual', 'toward', 'increase', 'capital', ',', 'assumed', 'end', '.', 'mere', 'business', 'astuteness', ',', 'ethos', ';', 'infraction', 'rules', 'foolishness', 'bad', 'business', ',', 'forgetfulness', 'duty', '.', 'ethic', ',', 'economic', 'acquisition', 'longer', 'considered', 'means', 'subsistence', ':', 'ultimate', 'purpose', 'man', \"'s\", 'life', '.', 'combined', 'strict', 'avoidance', 'spontaneous', 'enjoyment', 'life', '.', '(', 'NOTE', ':', 'standpoint', '``', 'happiness', ',', 'utility', ',', 'single', 'individual', ',', 'ethic', 'appears', 'entirely', 'transcendental', 'absolutely', 'irrational', \"''\", '(', '53', ')', ')', '.']\n"
          ]
        }
      ],
      "source": [
        "filtered_tokens1 = [word for word in tokens1 if word.lower() not in stop_words] # List comprehension\n",
        "print(filtered_tokens1)"
      ]
    },
    {
      "cell_type": "code",
      "source": [
        "lowercase_words1 = [word.lower() for word in filtered_tokens1]\n",
        "print(lowercase_words1)"
      ],
      "metadata": {
        "colab": {
          "base_uri": "https://localhost:8080/"
        },
        "id": "lAhBYEiiywSD",
        "outputId": "8ca518d5-6840-4572-b486-dbbc26d4c92c"
      },
      "execution_count": 53,
      "outputs": [
        {
          "output_type": "stream",
          "name": "stdout",
          "text": [
            "['favorable', 'disposition', 'toward', 'adopting', 'certain', 'types', 'practical', 'rational', 'conduct', '.', 'book', ',', 'treat', 'one', 'side', 'causal', 'chain', ',', 'connection', 'spirit', 'modern', 'economic', 'life', 'rational', 'ethics', 'ascetic', 'protestantism', '.', 'religious', 'affiliation', 'social', 'stratification', 'catholics', 'show', 'stronger', 'propensity', 'remain', 'crafts', ',', 'become', 'master', 'craftsmen', ',', 'protestants', 'attracted', 'larger', 'extent', 'upper', 'ranks', 'skilled', 'labor', 'administrative', 'positions', 'factories', '.', 'protestants', 'disproportionate', 'share', 'capital', '.', 'things', 'equal', ',', 'protestants', 'likely', 'develop', 'economic', 'rationalism', 'catholics', '.', 'weber', 'seeks', 'explanation', \"'the\", 'permanent', 'intrinsic', 'character', 'religion', ',', \"'\", 'temporary', 'external', 'historico-political', 'situations', '.', 'reformation', 'meant', 'elimination', 'church', \"'s\", 'control', 'everyday', 'life', ',', 'substitution', 'new', 'form', 'control', 'previous', 'one', '.', 'catholic', 'church', 'fairly', 'lax', ',', 'calvinism', \"'would\", 'us', 'absolutely', 'unbearable', 'form', 'ecclesiastical', 'control', 'individual', 'could', 'possibly', 'exist', '.', \"'\", 'protestantism', 'must', 'understood', 'joy', 'living', 'sense', 'connected', 'enlightenment', '.', 'early', 'protestantism', '(', 'e.g.', ',', 'luther', ',', 'calvin', ')', 'nothing', 'progress', 'enlightenment', 'sense', '.', 'protestant', 'denominations', 'equally', 'strong', 'influence', 'development', 'members', \"'\", 'business', 'acumen', 'spirit', 'hard', 'work', '.', 'spirit', 'capitalism', 'spirit', 'capitalism', '``', 'historical', 'individual', ':', 'complex', 'elements', 'associated', 'historical', 'reality', 'united', 'conceptual', 'whole', 'standpoint', 'cultural', 'significance', \"''\", '(', '47', ')', '.', 'ben', 'franklin', 'example', 'someone', 'espouses', 'philosophy', 'avarice', ':', 'ideal', 'honest', 'man', 'recognized', 'credit', '.', 'includes', 'duty', 'part', 'individual', 'toward', 'increase', 'capital', ',', 'assumed', 'end', '.', 'mere', 'business', 'astuteness', ',', 'ethos', ';', 'infraction', 'rules', 'foolishness', 'bad', 'business', ',', 'forgetfulness', 'duty', '.', 'ethic', ',', 'economic', 'acquisition', 'longer', 'considered', 'means', 'subsistence', ':', 'ultimate', 'purpose', 'man', \"'s\", 'life', '.', 'combined', 'strict', 'avoidance', 'spontaneous', 'enjoyment', 'life', '.', '(', 'note', ':', 'standpoint', '``', 'happiness', ',', 'utility', ',', 'single', 'individual', ',', 'ethic', 'appears', 'entirely', 'transcendental', 'absolutely', 'irrational', \"''\", '(', '53', ')', ')', '.']\n"
          ]
        }
      ]
    },
    {
      "cell_type": "code",
      "source": [
        "from nltk.stem import WordNetLemmatizer\n",
        "nltk.download('wordnet')"
      ],
      "metadata": {
        "colab": {
          "base_uri": "https://localhost:8080/"
        },
        "id": "FoBWy3-Yy1z2",
        "outputId": "86e59467-6ad6-4f98-c246-71f34ae3b134"
      },
      "execution_count": 54,
      "outputs": [
        {
          "output_type": "stream",
          "name": "stderr",
          "text": [
            "[nltk_data] Downloading package wordnet to /root/nltk_data...\n",
            "[nltk_data]   Package wordnet is already up-to-date!\n"
          ]
        },
        {
          "output_type": "execute_result",
          "data": {
            "text/plain": [
              "True"
            ]
          },
          "metadata": {},
          "execution_count": 54
        }
      ]
    },
    {
      "cell_type": "code",
      "source": [
        "# Initialize the WordNet lemmatizer\n",
        "lemmatizer = WordNetLemmatizer()\n",
        "# Lemmatize each word in the sentence\n",
        "lemmatized_words1 = [lemmatizer.lemmatize(word) for word in lowercase_words1]\n",
        "print(lemmatized_words1)"
      ],
      "metadata": {
        "colab": {
          "base_uri": "https://localhost:8080/"
        },
        "id": "3hVnAbH9zKq2",
        "outputId": "df6712a6-2a77-4b65-c36e-098234a14f47"
      },
      "execution_count": 55,
      "outputs": [
        {
          "output_type": "stream",
          "name": "stdout",
          "text": [
            "['favorable', 'disposition', 'toward', 'adopting', 'certain', 'type', 'practical', 'rational', 'conduct', '.', 'book', ',', 'treat', 'one', 'side', 'causal', 'chain', ',', 'connection', 'spirit', 'modern', 'economic', 'life', 'rational', 'ethic', 'ascetic', 'protestantism', '.', 'religious', 'affiliation', 'social', 'stratification', 'catholic', 'show', 'stronger', 'propensity', 'remain', 'craft', ',', 'become', 'master', 'craftsman', ',', 'protestant', 'attracted', 'larger', 'extent', 'upper', 'rank', 'skilled', 'labor', 'administrative', 'position', 'factory', '.', 'protestant', 'disproportionate', 'share', 'capital', '.', 'thing', 'equal', ',', 'protestant', 'likely', 'develop', 'economic', 'rationalism', 'catholic', '.', 'weber', 'seek', 'explanation', \"'the\", 'permanent', 'intrinsic', 'character', 'religion', ',', \"'\", 'temporary', 'external', 'historico-political', 'situation', '.', 'reformation', 'meant', 'elimination', 'church', \"'s\", 'control', 'everyday', 'life', ',', 'substitution', 'new', 'form', 'control', 'previous', 'one', '.', 'catholic', 'church', 'fairly', 'lax', ',', 'calvinism', \"'would\", 'u', 'absolutely', 'unbearable', 'form', 'ecclesiastical', 'control', 'individual', 'could', 'possibly', 'exist', '.', \"'\", 'protestantism', 'must', 'understood', 'joy', 'living', 'sense', 'connected', 'enlightenment', '.', 'early', 'protestantism', '(', 'e.g.', ',', 'luther', ',', 'calvin', ')', 'nothing', 'progress', 'enlightenment', 'sense', '.', 'protestant', 'denomination', 'equally', 'strong', 'influence', 'development', 'member', \"'\", 'business', 'acumen', 'spirit', 'hard', 'work', '.', 'spirit', 'capitalism', 'spirit', 'capitalism', '``', 'historical', 'individual', ':', 'complex', 'element', 'associated', 'historical', 'reality', 'united', 'conceptual', 'whole', 'standpoint', 'cultural', 'significance', \"''\", '(', '47', ')', '.', 'ben', 'franklin', 'example', 'someone', 'espouses', 'philosophy', 'avarice', ':', 'ideal', 'honest', 'man', 'recognized', 'credit', '.', 'includes', 'duty', 'part', 'individual', 'toward', 'increase', 'capital', ',', 'assumed', 'end', '.', 'mere', 'business', 'astuteness', ',', 'ethos', ';', 'infraction', 'rule', 'foolishness', 'bad', 'business', ',', 'forgetfulness', 'duty', '.', 'ethic', ',', 'economic', 'acquisition', 'longer', 'considered', 'mean', 'subsistence', ':', 'ultimate', 'purpose', 'man', \"'s\", 'life', '.', 'combined', 'strict', 'avoidance', 'spontaneous', 'enjoyment', 'life', '.', '(', 'note', ':', 'standpoint', '``', 'happiness', ',', 'utility', ',', 'single', 'individual', ',', 'ethic', 'appears', 'entirely', 'transcendental', 'absolutely', 'irrational', \"''\", '(', '53', ')', ')', '.']\n"
          ]
        }
      ]
    },
    {
      "cell_type": "code",
      "source": [
        "pages = [lemmatized_words, lemmatized_words1]\n",
        "print(pages)"
      ],
      "metadata": {
        "colab": {
          "base_uri": "https://localhost:8080/"
        },
        "id": "U-OSe1R-zyno",
        "outputId": "b44b3b7e-568a-4e4e-ba74-04147b1c608c"
      },
      "execution_count": 62,
      "outputs": [
        {
          "output_type": "stream",
          "name": "stdout",
          "text": [
            "[['max', 'weber', 'protestant', 'ethic', 'spirit', 'capitalism', 'abbreviation', ':', 'mwc', '=', 'modern', ',', 'western', 'capitalism', 'introduction', 'though', 'knowledge', 'observation', 'great', 'refinement', 'existed', 'elsewhere', ',', 'west', 'rationalization', 'science', ',', 'law', 'culture', 'developed', 'great', 'degree', '.', 'modern', 'west', 'absolutely', 'completely', 'depends', 'whole', 'existence', ',', 'political', 'technical', ',', 'economic', 'condition', 'life', ',', 'specially', 'trained', 'organization', 'individual', ',', 'important', 'function', 'everyday', 'life', 'come', 'hand', 'technically', ',', 'commercially', 'legally', 'trained', 'government', 'official', '.', 'nowhere', 'else', 'exist', 'degree', 'west', '.', 'fateful', 'force', 'modern', 'life', 'capitalism', '.', 'impulse', 'acquisition', 'existed', 'always', 'everywhere', 'nothing', 'capitalism', '.', 'capitalism', 'pursuit', 'profit', ',', 'forever', 'renewed', 'profit', ',', 'mean', 'continuous', ',', 'rational', ',', 'capitalistic', 'enterprise', '.', 'enterprise', 'must', 'continuous', ',', 'capitalistic', 'society', ',', 'anyone', 'take', 'advantage', 'opportunity', 'profit-making', 'would', 'doomed', 'extinction', '.', 'capitalistic', 'economic', 'action', 'rest', 'expectation', 'profit', 'utilization', 'opportunity', 'exchange', ',', '(', 'formally', ')', 'peaceful', 'chance', 'profit', '.', 'rationally', 'pursued', ',', 'calculation', 'term', 'money', 'made', ',', 'whether', 'modern', 'bookkeeping', 'primitive', 'mean', '.', 'everything', 'done', 'term', 'balance', 'money', 'income', 'money', 'expense', '.', 'whether', 'calculation', 'accurate', ',', 'whether', 'calculation', 'method', 'traditional', 'guess-work', 'affect', 'degree', 'rationality', 'capitalistic', 'acquisition', '.', 'characteristic', 'modern', 'western', 'capitalism', ':', 'rational', 'industrial', 'organization', '(', ',', 'attuned', 'regular', 'profit', 'political', 'irrational', 'speculative', 'opportunity', 'profit', ')', ';', 'separation', 'business', 'household', ';', 'rational', 'bookkeeping', '.', 'capitalistic', 'adventurer', '(', 'search', 'booty', ',', 'whether', 'war', 'exploitation', ')', 'existed', 'everywhere', ',', 'modern', 'west', 'developed', '...', 'rational', 'capitalistic', 'organization', '(', 'formally', ')', 'free', 'labor', '.', 'rationality', 'mwc', 'dependent', 'calculation', 'technical', 'factor', ',', 'dependent', 'development', 'science', 'exact', 'rational', 'experiment', '.', \"c'ism\", 'cause', 'development', ':', ',', 'continuing', 'development', 'type', 'science', 'supported', 'capitalistic', 'interest', 'practical', 'economic', 'application', '.', 'peculiar', 'rationalism', 'western', 'culture', 'extends', 'many', 'field', '--', 'science', ',', 'mystical', 'contemplation', ',', 'military', 'training', ',', 'law', 'administration', '.', 'thesis', 'field', 'may', 'rationalized', 'term', 'different', 'ultimate', 'value', 'end', ',', 'rational', 'one', 'point', 'view', 'may', 'well', 'irrational', 'another', '.', 'development', 'economic', 'rationalism', 'partly', 'dependent', 'rational', 'technique', 'law', ',', 'also', 'requires', 'people'], ['favorable', 'disposition', 'toward', 'adopting', 'certain', 'type', 'practical', 'rational', 'conduct', '.', 'book', ',', 'treat', 'one', 'side', 'causal', 'chain', ',', 'connection', 'spirit', 'modern', 'economic', 'life', 'rational', 'ethic', 'ascetic', 'protestantism', '.', 'religious', 'affiliation', 'social', 'stratification', 'catholic', 'show', 'stronger', 'propensity', 'remain', 'craft', ',', 'become', 'master', 'craftsman', ',', 'protestant', 'attracted', 'larger', 'extent', 'upper', 'rank', 'skilled', 'labor', 'administrative', 'position', 'factory', '.', 'protestant', 'disproportionate', 'share', 'capital', '.', 'thing', 'equal', ',', 'protestant', 'likely', 'develop', 'economic', 'rationalism', 'catholic', '.', 'weber', 'seek', 'explanation', \"'the\", 'permanent', 'intrinsic', 'character', 'religion', ',', \"'\", 'temporary', 'external', 'historico-political', 'situation', '.', 'reformation', 'meant', 'elimination', 'church', \"'s\", 'control', 'everyday', 'life', ',', 'substitution', 'new', 'form', 'control', 'previous', 'one', '.', 'catholic', 'church', 'fairly', 'lax', ',', 'calvinism', \"'would\", 'u', 'absolutely', 'unbearable', 'form', 'ecclesiastical', 'control', 'individual', 'could', 'possibly', 'exist', '.', \"'\", 'protestantism', 'must', 'understood', 'joy', 'living', 'sense', 'connected', 'enlightenment', '.', 'early', 'protestantism', '(', 'e.g.', ',', 'luther', ',', 'calvin', ')', 'nothing', 'progress', 'enlightenment', 'sense', '.', 'protestant', 'denomination', 'equally', 'strong', 'influence', 'development', 'member', \"'\", 'business', 'acumen', 'spirit', 'hard', 'work', '.', 'spirit', 'capitalism', 'spirit', 'capitalism', '``', 'historical', 'individual', ':', 'complex', 'element', 'associated', 'historical', 'reality', 'united', 'conceptual', 'whole', 'standpoint', 'cultural', 'significance', \"''\", '(', '47', ')', '.', 'ben', 'franklin', 'example', 'someone', 'espouses', 'philosophy', 'avarice', ':', 'ideal', 'honest', 'man', 'recognized', 'credit', '.', 'includes', 'duty', 'part', 'individual', 'toward', 'increase', 'capital', ',', 'assumed', 'end', '.', 'mere', 'business', 'astuteness', ',', 'ethos', ';', 'infraction', 'rule', 'foolishness', 'bad', 'business', ',', 'forgetfulness', 'duty', '.', 'ethic', ',', 'economic', 'acquisition', 'longer', 'considered', 'mean', 'subsistence', ':', 'ultimate', 'purpose', 'man', \"'s\", 'life', '.', 'combined', 'strict', 'avoidance', 'spontaneous', 'enjoyment', 'life', '.', '(', 'note', ':', 'standpoint', '``', 'happiness', ',', 'utility', ',', 'single', 'individual', ',', 'ethic', 'appears', 'entirely', 'transcendental', 'absolutely', 'irrational', \"''\", '(', '53', ')', ')', '.']]\n"
          ]
        }
      ]
    },
    {
      "cell_type": "code",
      "source": [
        "# Creating a corpus from 2 extracted pages:\n",
        "# corpus = []\n",
        "# for page in pages:\n",
        "#   Done = corpus.append(page)\n",
        "# print(Done) # None\n",
        "corpus = []\n",
        "for page in pages:\n",
        "    corpus.append(page)\n",
        "\n",
        "print(corpus)"
      ],
      "metadata": {
        "colab": {
          "base_uri": "https://localhost:8080/"
        },
        "id": "82wp7bcizYhE",
        "outputId": "e5233096-1846-4e39-eabe-00db8dd09ac9"
      },
      "execution_count": 63,
      "outputs": [
        {
          "output_type": "stream",
          "name": "stdout",
          "text": [
            "[['max', 'weber', 'protestant', 'ethic', 'spirit', 'capitalism', 'abbreviation', ':', 'mwc', '=', 'modern', ',', 'western', 'capitalism', 'introduction', 'though', 'knowledge', 'observation', 'great', 'refinement', 'existed', 'elsewhere', ',', 'west', 'rationalization', 'science', ',', 'law', 'culture', 'developed', 'great', 'degree', '.', 'modern', 'west', 'absolutely', 'completely', 'depends', 'whole', 'existence', ',', 'political', 'technical', ',', 'economic', 'condition', 'life', ',', 'specially', 'trained', 'organization', 'individual', ',', 'important', 'function', 'everyday', 'life', 'come', 'hand', 'technically', ',', 'commercially', 'legally', 'trained', 'government', 'official', '.', 'nowhere', 'else', 'exist', 'degree', 'west', '.', 'fateful', 'force', 'modern', 'life', 'capitalism', '.', 'impulse', 'acquisition', 'existed', 'always', 'everywhere', 'nothing', 'capitalism', '.', 'capitalism', 'pursuit', 'profit', ',', 'forever', 'renewed', 'profit', ',', 'mean', 'continuous', ',', 'rational', ',', 'capitalistic', 'enterprise', '.', 'enterprise', 'must', 'continuous', ',', 'capitalistic', 'society', ',', 'anyone', 'take', 'advantage', 'opportunity', 'profit-making', 'would', 'doomed', 'extinction', '.', 'capitalistic', 'economic', 'action', 'rest', 'expectation', 'profit', 'utilization', 'opportunity', 'exchange', ',', '(', 'formally', ')', 'peaceful', 'chance', 'profit', '.', 'rationally', 'pursued', ',', 'calculation', 'term', 'money', 'made', ',', 'whether', 'modern', 'bookkeeping', 'primitive', 'mean', '.', 'everything', 'done', 'term', 'balance', 'money', 'income', 'money', 'expense', '.', 'whether', 'calculation', 'accurate', ',', 'whether', 'calculation', 'method', 'traditional', 'guess-work', 'affect', 'degree', 'rationality', 'capitalistic', 'acquisition', '.', 'characteristic', 'modern', 'western', 'capitalism', ':', 'rational', 'industrial', 'organization', '(', ',', 'attuned', 'regular', 'profit', 'political', 'irrational', 'speculative', 'opportunity', 'profit', ')', ';', 'separation', 'business', 'household', ';', 'rational', 'bookkeeping', '.', 'capitalistic', 'adventurer', '(', 'search', 'booty', ',', 'whether', 'war', 'exploitation', ')', 'existed', 'everywhere', ',', 'modern', 'west', 'developed', '...', 'rational', 'capitalistic', 'organization', '(', 'formally', ')', 'free', 'labor', '.', 'rationality', 'mwc', 'dependent', 'calculation', 'technical', 'factor', ',', 'dependent', 'development', 'science', 'exact', 'rational', 'experiment', '.', \"c'ism\", 'cause', 'development', ':', ',', 'continuing', 'development', 'type', 'science', 'supported', 'capitalistic', 'interest', 'practical', 'economic', 'application', '.', 'peculiar', 'rationalism', 'western', 'culture', 'extends', 'many', 'field', '--', 'science', ',', 'mystical', 'contemplation', ',', 'military', 'training', ',', 'law', 'administration', '.', 'thesis', 'field', 'may', 'rationalized', 'term', 'different', 'ultimate', 'value', 'end', ',', 'rational', 'one', 'point', 'view', 'may', 'well', 'irrational', 'another', '.', 'development', 'economic', 'rationalism', 'partly', 'dependent', 'rational', 'technique', 'law', ',', 'also', 'requires', 'people'], ['favorable', 'disposition', 'toward', 'adopting', 'certain', 'type', 'practical', 'rational', 'conduct', '.', 'book', ',', 'treat', 'one', 'side', 'causal', 'chain', ',', 'connection', 'spirit', 'modern', 'economic', 'life', 'rational', 'ethic', 'ascetic', 'protestantism', '.', 'religious', 'affiliation', 'social', 'stratification', 'catholic', 'show', 'stronger', 'propensity', 'remain', 'craft', ',', 'become', 'master', 'craftsman', ',', 'protestant', 'attracted', 'larger', 'extent', 'upper', 'rank', 'skilled', 'labor', 'administrative', 'position', 'factory', '.', 'protestant', 'disproportionate', 'share', 'capital', '.', 'thing', 'equal', ',', 'protestant', 'likely', 'develop', 'economic', 'rationalism', 'catholic', '.', 'weber', 'seek', 'explanation', \"'the\", 'permanent', 'intrinsic', 'character', 'religion', ',', \"'\", 'temporary', 'external', 'historico-political', 'situation', '.', 'reformation', 'meant', 'elimination', 'church', \"'s\", 'control', 'everyday', 'life', ',', 'substitution', 'new', 'form', 'control', 'previous', 'one', '.', 'catholic', 'church', 'fairly', 'lax', ',', 'calvinism', \"'would\", 'u', 'absolutely', 'unbearable', 'form', 'ecclesiastical', 'control', 'individual', 'could', 'possibly', 'exist', '.', \"'\", 'protestantism', 'must', 'understood', 'joy', 'living', 'sense', 'connected', 'enlightenment', '.', 'early', 'protestantism', '(', 'e.g.', ',', 'luther', ',', 'calvin', ')', 'nothing', 'progress', 'enlightenment', 'sense', '.', 'protestant', 'denomination', 'equally', 'strong', 'influence', 'development', 'member', \"'\", 'business', 'acumen', 'spirit', 'hard', 'work', '.', 'spirit', 'capitalism', 'spirit', 'capitalism', '``', 'historical', 'individual', ':', 'complex', 'element', 'associated', 'historical', 'reality', 'united', 'conceptual', 'whole', 'standpoint', 'cultural', 'significance', \"''\", '(', '47', ')', '.', 'ben', 'franklin', 'example', 'someone', 'espouses', 'philosophy', 'avarice', ':', 'ideal', 'honest', 'man', 'recognized', 'credit', '.', 'includes', 'duty', 'part', 'individual', 'toward', 'increase', 'capital', ',', 'assumed', 'end', '.', 'mere', 'business', 'astuteness', ',', 'ethos', ';', 'infraction', 'rule', 'foolishness', 'bad', 'business', ',', 'forgetfulness', 'duty', '.', 'ethic', ',', 'economic', 'acquisition', 'longer', 'considered', 'mean', 'subsistence', ':', 'ultimate', 'purpose', 'man', \"'s\", 'life', '.', 'combined', 'strict', 'avoidance', 'spontaneous', 'enjoyment', 'life', '.', '(', 'note', ':', 'standpoint', '``', 'happiness', ',', 'utility', ',', 'single', 'individual', ',', 'ethic', 'appears', 'entirely', 'transcendental', 'absolutely', 'irrational', \"''\", '(', '53', ')', ')', '.']]\n"
          ]
        }
      ]
    },
    {
      "cell_type": "code",
      "source": [
        "corpus = []\n",
        "for page in pages:\n",
        "    corpus.extend(page)\n",
        "\n",
        "print(corpus)"
      ],
      "metadata": {
        "colab": {
          "base_uri": "https://localhost:8080/"
        },
        "id": "iFyKsk0p3Rte",
        "outputId": "5184b0df-6881-4093-ff58-cbc23de23a96"
      },
      "execution_count": 64,
      "outputs": [
        {
          "output_type": "stream",
          "name": "stdout",
          "text": [
            "['max', 'weber', 'protestant', 'ethic', 'spirit', 'capitalism', 'abbreviation', ':', 'mwc', '=', 'modern', ',', 'western', 'capitalism', 'introduction', 'though', 'knowledge', 'observation', 'great', 'refinement', 'existed', 'elsewhere', ',', 'west', 'rationalization', 'science', ',', 'law', 'culture', 'developed', 'great', 'degree', '.', 'modern', 'west', 'absolutely', 'completely', 'depends', 'whole', 'existence', ',', 'political', 'technical', ',', 'economic', 'condition', 'life', ',', 'specially', 'trained', 'organization', 'individual', ',', 'important', 'function', 'everyday', 'life', 'come', 'hand', 'technically', ',', 'commercially', 'legally', 'trained', 'government', 'official', '.', 'nowhere', 'else', 'exist', 'degree', 'west', '.', 'fateful', 'force', 'modern', 'life', 'capitalism', '.', 'impulse', 'acquisition', 'existed', 'always', 'everywhere', 'nothing', 'capitalism', '.', 'capitalism', 'pursuit', 'profit', ',', 'forever', 'renewed', 'profit', ',', 'mean', 'continuous', ',', 'rational', ',', 'capitalistic', 'enterprise', '.', 'enterprise', 'must', 'continuous', ',', 'capitalistic', 'society', ',', 'anyone', 'take', 'advantage', 'opportunity', 'profit-making', 'would', 'doomed', 'extinction', '.', 'capitalistic', 'economic', 'action', 'rest', 'expectation', 'profit', 'utilization', 'opportunity', 'exchange', ',', '(', 'formally', ')', 'peaceful', 'chance', 'profit', '.', 'rationally', 'pursued', ',', 'calculation', 'term', 'money', 'made', ',', 'whether', 'modern', 'bookkeeping', 'primitive', 'mean', '.', 'everything', 'done', 'term', 'balance', 'money', 'income', 'money', 'expense', '.', 'whether', 'calculation', 'accurate', ',', 'whether', 'calculation', 'method', 'traditional', 'guess-work', 'affect', 'degree', 'rationality', 'capitalistic', 'acquisition', '.', 'characteristic', 'modern', 'western', 'capitalism', ':', 'rational', 'industrial', 'organization', '(', ',', 'attuned', 'regular', 'profit', 'political', 'irrational', 'speculative', 'opportunity', 'profit', ')', ';', 'separation', 'business', 'household', ';', 'rational', 'bookkeeping', '.', 'capitalistic', 'adventurer', '(', 'search', 'booty', ',', 'whether', 'war', 'exploitation', ')', 'existed', 'everywhere', ',', 'modern', 'west', 'developed', '...', 'rational', 'capitalistic', 'organization', '(', 'formally', ')', 'free', 'labor', '.', 'rationality', 'mwc', 'dependent', 'calculation', 'technical', 'factor', ',', 'dependent', 'development', 'science', 'exact', 'rational', 'experiment', '.', \"c'ism\", 'cause', 'development', ':', ',', 'continuing', 'development', 'type', 'science', 'supported', 'capitalistic', 'interest', 'practical', 'economic', 'application', '.', 'peculiar', 'rationalism', 'western', 'culture', 'extends', 'many', 'field', '--', 'science', ',', 'mystical', 'contemplation', ',', 'military', 'training', ',', 'law', 'administration', '.', 'thesis', 'field', 'may', 'rationalized', 'term', 'different', 'ultimate', 'value', 'end', ',', 'rational', 'one', 'point', 'view', 'may', 'well', 'irrational', 'another', '.', 'development', 'economic', 'rationalism', 'partly', 'dependent', 'rational', 'technique', 'law', ',', 'also', 'requires', 'people', 'favorable', 'disposition', 'toward', 'adopting', 'certain', 'type', 'practical', 'rational', 'conduct', '.', 'book', ',', 'treat', 'one', 'side', 'causal', 'chain', ',', 'connection', 'spirit', 'modern', 'economic', 'life', 'rational', 'ethic', 'ascetic', 'protestantism', '.', 'religious', 'affiliation', 'social', 'stratification', 'catholic', 'show', 'stronger', 'propensity', 'remain', 'craft', ',', 'become', 'master', 'craftsman', ',', 'protestant', 'attracted', 'larger', 'extent', 'upper', 'rank', 'skilled', 'labor', 'administrative', 'position', 'factory', '.', 'protestant', 'disproportionate', 'share', 'capital', '.', 'thing', 'equal', ',', 'protestant', 'likely', 'develop', 'economic', 'rationalism', 'catholic', '.', 'weber', 'seek', 'explanation', \"'the\", 'permanent', 'intrinsic', 'character', 'religion', ',', \"'\", 'temporary', 'external', 'historico-political', 'situation', '.', 'reformation', 'meant', 'elimination', 'church', \"'s\", 'control', 'everyday', 'life', ',', 'substitution', 'new', 'form', 'control', 'previous', 'one', '.', 'catholic', 'church', 'fairly', 'lax', ',', 'calvinism', \"'would\", 'u', 'absolutely', 'unbearable', 'form', 'ecclesiastical', 'control', 'individual', 'could', 'possibly', 'exist', '.', \"'\", 'protestantism', 'must', 'understood', 'joy', 'living', 'sense', 'connected', 'enlightenment', '.', 'early', 'protestantism', '(', 'e.g.', ',', 'luther', ',', 'calvin', ')', 'nothing', 'progress', 'enlightenment', 'sense', '.', 'protestant', 'denomination', 'equally', 'strong', 'influence', 'development', 'member', \"'\", 'business', 'acumen', 'spirit', 'hard', 'work', '.', 'spirit', 'capitalism', 'spirit', 'capitalism', '``', 'historical', 'individual', ':', 'complex', 'element', 'associated', 'historical', 'reality', 'united', 'conceptual', 'whole', 'standpoint', 'cultural', 'significance', \"''\", '(', '47', ')', '.', 'ben', 'franklin', 'example', 'someone', 'espouses', 'philosophy', 'avarice', ':', 'ideal', 'honest', 'man', 'recognized', 'credit', '.', 'includes', 'duty', 'part', 'individual', 'toward', 'increase', 'capital', ',', 'assumed', 'end', '.', 'mere', 'business', 'astuteness', ',', 'ethos', ';', 'infraction', 'rule', 'foolishness', 'bad', 'business', ',', 'forgetfulness', 'duty', '.', 'ethic', ',', 'economic', 'acquisition', 'longer', 'considered', 'mean', 'subsistence', ':', 'ultimate', 'purpose', 'man', \"'s\", 'life', '.', 'combined', 'strict', 'avoidance', 'spontaneous', 'enjoyment', 'life', '.', '(', 'note', ':', 'standpoint', '``', 'happiness', ',', 'utility', ',', 'single', 'individual', ',', 'ethic', 'appears', 'entirely', 'transcendental', 'absolutely', 'irrational', \"''\", '(', '53', ')', ')', '.']\n"
          ]
        }
      ]
    }
  ],
  "metadata": {
    "colab": {
      "provenance": [],
      "authorship_tag": "ABX9TyPZSNHNPpJ7Gdf+TDtcZuvB",
      "include_colab_link": true
    },
    "kernelspec": {
      "display_name": "Python 3",
      "name": "python3"
    },
    "language_info": {
      "name": "python"
    }
  },
  "nbformat": 4,
  "nbformat_minor": 0
}